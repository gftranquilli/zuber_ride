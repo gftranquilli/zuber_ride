











# Carregando todas as bibliotecas
import pandas as pd
import numpy as np
import matplotlib.pyplot as plt
from math import factorial
from scipy import stats as st
import seaborn as sns



df_games = pd.read_csv('datasets/games.csv')





df_games.info()
df_games.head()











df_games.rename(str.lower, axis='columns', inplace=True)
df_games.info()








df_games['year_of_release'] = df_games['year_of_release'].astype('Int64')
df_games.info()





df_games['user_score'] = pd.to_numeric(df_games['user_score'], errors='coerce')
df_games.info()








print(df_games[df_games['name'].isna()])





df_games.dropna(subset='name', inplace=True)
print(df_games[df_games['name'].isna()])





print(df_games[df_games['year_of_release'].isna()])








print(df_games[df_games['critic_score'].isna()])
print(df_games[df_games['user_score'].isna()])





df_games.info()
df_games.head()





print(df_games[df_games['rating'].isna()])





df_games.fillna(value={'rating': 'NR'}, inplace=True)
print(df_games[df_games['rating'].isna()])


df_games.info()
df_games.head()





df_games['total_sales'] = df_games['na_sales'] + df_games['eu_sales'] + df_games['jp_sales'] + df_games['other_sales']
df_games.head(10)








print(df_games['year_of_release'].value_counts().sort_index())





platform_sales = df_games.groupby('platform')['total_sales'].sum()
print(platform_sales.sort_values())


# encontrando as maiores plataformas
big_platforms = platform_sales[platform_sales > 300]
print(big_platforms.index.tolist())


big_platforms_list = big_platforms.index.tolist()
df_big_plats = df_games.query("platform in @big_platforms_list")
df_big_plats.head(10)


df_plat_year = df_big_plats.groupby(['year_of_release', 'platform'])['total_sales'].sum().unstack()
print(df_plat_year)


df_plat_year.info()


df_plat_year = df_plat_year.reset_index()
print(df_plat_year)


# O Nintendo DS foi um videogame lançado apenas em 2004, portanto as vendas do ano de 1985 estão incorretas e não fazem sentido.
df_plat_year.drop([0], inplace=True)
print(df_plat_year)


df_plat_year.plot(x='year_of_release', kind='bar', title='Vendas nos 8 melhores consoles nos últimos anos', figsize=(12, 6), rot=45)

plt.xlabel('Ano de lançamento dos jogos')
plt.ylabel('Vendas globais em milhões de USD')

plt.show()











df_filtered_games = df_games[df_games['year_of_release'] > 2012]
df_filtered_games.info()
df_filtered_games.head(10)





leader_plats = df_filtered_games.groupby('platform')['total_sales'].sum().sort_values()
leader_plats


leader_plats_list = leader_plats.index.tolist()
df_leader_plats = df_filtered_games.query("platform in @leader_plats_list")
df_leader_year = df_leader_plats.groupby(['year_of_release', 'platform'])['total_sales'].sum().unstack()
df_leader_year = df_leader_year.reset_index()
df_leader_year.drop([0], inplace=True)
print(df_leader_year)


df_leader_year.plot(x='year_of_release', kind='bar', title='Vendas nos melhores 11 consoles nos últimos anos',  figsize=(12, 6), rot=75)

plt.xlabel('Ano de lançamento dos jogos')
plt.ylabel('Vendas globais em milhões de USD')

plt.show()








df_leader_games = df_leader_plats.groupby(['name', 'platform'])['total_sales'].sum().unstack()
df_leader_games = df_leader_games.reset_index()
print(df_leader_games)


df_leader_games.drop('name', axis=1).boxplot()





df_mean_games = df_leader_plats.groupby('platform')['total_sales'].mean()
df_mean_games = df_mean_games.reset_index()
print(df_mean_games)


df_mean_games.plot(x='platform', y='total_sales', kind='bar', title='Média de vendas de jogos nas melhores 11 plataformas', figsize=(12, 6), rot=0, legend=False)

plt.xlabel('Plataforma')
plt.ylabel('Média de vendas em milhões de USD')

plt.show()











df_filtered_games.head(10)


df_filtered_games[df_filtered_games['platform'] == 'PS4'].plot(x='user_score', y='total_sales', kind='scatter', figsize=(12, 6), grid=True, title='Vendas para cada nota dada pelos usuários no PS4')

plt.xlabel('Nota do usuário')
plt.ylabel('Vendas por jogo em milhões de USD')

plt.show()


# Calculando o coeficiente de correlação entre a nota do usuáio e o total de vendas
user_sales_corr = df_filtered_games['user_score'].corr(df_filtered_games['total_sales'])
print(user_sales_corr)








df_filtered_games[df_filtered_games['platform'] == 'PS4'].plot(x='critic_score', y='total_sales', kind='scatter', figsize=(12, 6), grid=True, title='Vendas para cada nota dada pelos críticos no PS4')

plt.xlabel('Nota do crítico')
plt.ylabel('Vendas por jogo em milhões de USD')

plt.show()


# Calculando o coeficiente de correlação entre a nota do usuáio e o total de vendas
critic_sales_corr = df_filtered_games['critic_score'].corr(df_filtered_games['total_sales'])
print(critic_sales_corr)








df_filtered_games.head()


dup_games = df_filtered_games[df_filtered_games['name'].duplicated(keep=False)]
dup_games


dup_games = dup_games.groupby(['name', 'platform'])['total_sales'].sum().reset_index()
dup_games


comparison = dup_games.pivot(index='name', columns='platform', values='total_sales')
print(comparison)


comparison['total'] = dup_games.groupby('name')['total_sales'].sum()
comparison


comparison_top = comparison.sort_values(by='total', ascending=False).reset_index().loc[:9]
comparison_top


comparison_top.drop('total', axis=1).plot(x='name', kind='barh', stacked=True, title='Top 10 jogos com mais vendas em várias plataformas')

plt.xlabel('Vendas em milhões de USD')
plt.ylabel('')
plt.legend(title='Plataforma')

plt.show()








# Calculando o total de vendas por gênero
df_filtered_games.groupby('genre')['total_sales'].sum().sort_values(ascending=False)


df_filtered_games.groupby('genre')['total_sales'].sum().sort_values(ascending=False).plot(x='genre', kind='bar', title='Total de vendas por gênero', figsize=(12, 6), rot=45, legend=False)

plt.xlabel('Gênero')
plt.ylabel('Total de vendas em milhões de USD')

plt.show()


# Calculando a média de vendas por gênero
df_filtered_games.groupby('genre')['total_sales'].mean().sort_values(ascending=False)


df_filtered_games.groupby('genre')['total_sales'].mean().sort_values(ascending=False).plot(x='genre', kind='bar', title='Média de vendas por gênero', figsize=(12, 6), rot=45, legend=False)

plt.xlabel('Gênero')
plt.ylabel('Média de vendas em milhões de USD')

plt.show()











df_filtered_games.head()


df_jp = df_filtered_games[['name', 'platform', 'year_of_release', 'genre', 'jp_sales', 'critic_score', 'user_score', 'rating']]
df_jp.head()


df_na = df_filtered_games[['name', 'platform', 'year_of_release', 'genre', 'na_sales', 'critic_score', 'user_score', 'rating']]
df_na.head()


df_eu = df_filtered_games[['name', 'platform', 'year_of_release', 'genre', 'eu_sales', 'critic_score', 'user_score', 'rating']]
df_eu.head()





jp_top = df_jp.groupby('platform')['jp_sales'].sum().nlargest(5).reset_index()
jp_top


na_top = df_na.groupby('platform')['na_sales'].sum().nlargest(5).reset_index()
na_top


eu_top = df_eu.groupby('platform')['eu_sales'].sum().nlargest(5).reset_index()
eu_top


merged_sales = jp_top.merge(na_top, on='platform', how='outer').merge(eu_top, on='platform', how='outer')
merged_sales


merged_sales.plot(x='platform', kind='bar', figsize=(12, 6), rot=0, title='Top 5 plataformas em diferentes regiões', xlabel='Plataforma', ylabel='Vendas em milhões de USD')
plt.legend(['Japão', 'América do Norte', 'Europa'])
plt.show()








jp_genre = df_jp.groupby('genre')['jp_sales'].sum().nlargest(5).reset_index()
jp_genre


na_genre = df_na.groupby('genre')['na_sales'].sum().nlargest(5).reset_index()
na_genre


eu_genre = df_eu.groupby('genre')['eu_sales'].sum().nlargest(5).reset_index()
eu_genre


merged_genres = jp_genre.merge(na_genre, on='genre', how='outer').merge(eu_genre, on='genre', how='outer')
merged_genres


merged_genres.plot(x='genre', kind='bar', figsize=(12, 6), rot=0, title='Top 5 gêneros em diferentes regiões', xlabel='Gênero', ylabel='Vendas em milhões de USD')
plt.legend(['Japão', 'América do Norte', 'Europa'])
plt.show()








df_jp.head()


jp_rating = df_jp.groupby('rating')['jp_sales'].sum().sort_values(ascending=False).reset_index()
jp_rating


na_rating = df_na.groupby('rating')['na_sales'].sum().sort_values(ascending=False).reset_index()
na_rating


eu_rating = df_eu.groupby('rating')['eu_sales'].sum().sort_values(ascending=False).reset_index()
eu_rating


merged_ratings = jp_rating.merge(na_rating, on='rating', how='outer').merge(eu_rating, on='rating', how='outer')
merged_ratings


merged_ratings.plot(x='rating', kind='bar', figsize=(12, 6), rot=0, title='Como a classificação dos jogos afeta as vendas regionais', xlabel='Classificação ESRB', ylabel='Vendas em milhões de USD')
plt.legend(['Japão', 'América do Norte', 'Europa'])
plt.show()














df_filtered_games.head()


array_xone = df_filtered_games[df_filtered_games['platform'] == 'XOne']['user_score'].dropna()
array_pc = df_filtered_games[df_filtered_games['platform'] == 'PC']['user_score'].dropna()








print('Variância Xbox One:', np.var(array_xone), '\nVariância PC:', np.var(array_pc))


print('Desvio padrão Xbox One:', np.std(array_xone), '\nDesvio padrão PC:', np.std(array_pc))








alpha = 0.05

results = st.ttest_ind(array_xone, array_pc, equal_var=False)

print('Valor-p:', results.pvalue)

if results.pvalue < alpha:
    print('Rejeitamos a hipótese nula')
else:
    print('Não podemos rejeitar a hipótese nula')








array_action = df_filtered_games[df_filtered_games['genre'] == 'Action']['user_score'].dropna()
array_sports = df_filtered_games[df_filtered_games['genre'] == 'Sports']['user_score'].dropna()








print('Variância Action:', np.var(array_action), '\nVariância Sports:', np.var(array_sports))


print('Desvio padrão Action:', np.std(array_action), '\nDesvio padrão Sports:', np.std(array_sports))





alpha = 0.10

results = st.ttest_ind(array_sports, array_pc, equal_var=False)

print('Valor-p:', results.pvalue)

if results.pvalue < alpha:
    print('Rejeitamos a hipótese nula')
else:
    print('Não podemos rejeitar a hipótese nula')






