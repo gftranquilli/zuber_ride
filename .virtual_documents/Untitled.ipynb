








# Carregando todas as bibliotecas
import pandas as pd
import numpy as np
import matplotlib.pyplot as plt
from math import factorial
from scipy import stats as st
import seaborn as sns





trips_num = pd.read_csv('datasets/project_sql_result_01.csv')
trips_neig = pd.read_csv('datasets/project_sql_result_04.csv')


trips_num.info()
trips_num.head()


trips_neig.info()
trips_neig.head()











top_10_neig = trips_neig.sort_values(by='average_trips', ascending=False).head(10)
top_10_neig


top_10_neig.plot(x='dropoff_location_name', y='average_trips', kind='bar', title='Destinos com mais viagens em média', figsize=(12, 6), rot=30, legend=False)

plt.xlabel('')

plt.show()








top_15_company = trips_num.sort_values(by='trips_amount', ascending=False).head(15)
top_15_company


top_15_company.plot(x='company_name', y='trips_amount', kind='barh', title='Empresas de taxi com mais viagens', figsize=(12, 6), legend=False)

plt.xlabel('')

plt.show()











trip_weather = pd.read_csv('datasets/project_sql_result_07.csv')


trip_weather.info()
trip_weather.head()











alpha = 0.05

good = trip_weather[trip_weather['weather_conditions'] == 'Good']['duration_seconds']
bad = trip_weather[trip_weather['weather_conditions'] == 'Bad']['duration_seconds']

results = st.ttest_ind(good, bad, equal_var=True)

print('Valor-p:', results.pvalue)

if results.pvalue < alpha:
    print('Rejeitamos a hipótese nula')
else:
    print('Não podemos rejeitar a hipótese nula')






